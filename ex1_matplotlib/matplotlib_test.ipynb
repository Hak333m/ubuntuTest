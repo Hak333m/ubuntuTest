{
 "cells": [
  {
   "cell_type": "markdown",
   "metadata": {
    "collapsed": true
   },
   "source": [
    "# Customizing Location of Subplot Using GridSpec\n",
    "\n",
    "GridSpec:\n",
    "\t- specifies the geometry of the grid that a subplot will be placed. 分割一个figure，要指定rows和columns\n",
    "\n",
    "SubPlotSpec:\n",
    "\t- specifies the location of the subplot in the given GridSpec.\n",
    "\n",
    "subplot2grid:\n",
    "\t- a helper function that is similar to 'subplot()'"
   ]
  },
  {
   "cell_type": "code",
   "execution_count": 2,
   "metadata": {},
   "outputs": [],
   "source": [
    "import matplotlib.pyplot as plt\n",
    "ax1 = plt.subplot2grid((2, 2), (0, 0))\n",
    "ax2 = plt.subplot(2, 2, 1)"
   ]
  },
  {
   "cell_type": "markdown",
   "metadata": {},
   "source": [
    "> Note that, unlike Matplotlib’s subplot, subplot2grid's index starts from 0 in GridSpec(0, 0)\n",
    "subplot's index starts from 1."
   ]
  },
  {
   "cell_type": "code",
   "execution_count": 4,
   "metadata": {},
   "outputs": [
    {
     "data": {
      "image/png": "[encoded data removed]",
      "text/plain": [
       "<matplotlib.figure.Figure at 0x123b8c27160>"
      ]
     },
     "metadata": {},
     "output_type": "display_data"
    },
    {
     "data": {
      "image/png": "[encoded data removed]",
      "text/plain": [
       "<matplotlib.figure.Figure at 0x123b88906a0>"
      ]
     },
     "metadata": {},
     "output_type": "display_data"
    }
   ],
   "source": [
    "# if we want to create subplot that occupies multiple cells\n",
    "plt.figure(0)  # create a figure\n",
    "\n",
    "# create subfigure in the figure. 分割figure(0)\n",
    "ax1 = plt.subplot2grid((3, 3), (0, 0), colspan=3)\n",
    "ax2 = plt.subplot2grid((3, 3), (1, 0), colspan=2)\n",
    "ax3 = plt.subplot2grid((3, 3), (1, 2), rowspan=2)\n",
    "ax4 = plt.subplot2grid((3, 3), (2, 0))\n",
    "ax5 = plt.subplot2grid((3, 3), (2, 1))\n",
    "\n",
    "\n",
    "def make_labels(fig):\n",
    "    for i, ax in enumerate(fig.axes):\n",
    "        ax.text(0.5, 0.5, \"ax%d\" % (i+1), va=\"center\", ha=\"center\")\n",
    "        for tl in ax.get_xticklabels() + ax.get_yticklabels():\n",
    "            tl.set_visible(False)\n",
    "\n",
    "make_labels(plt.gcf())  # plt.gcf()   return the current figure\n",
    "plt.show()"
   ]
  },
  {
   "cell_type": "markdown",
   "metadata": {},
   "source": [
    "### 可以将这里的 figure 当做画板， ax 当做子画板。我们都可以在上面画图。但是在画图的时候 应该清楚 当前选中的画板或者是子画板。\n",
    "\n",
    "```\n",
    "fig, [[ax1, ax2], [ax3, ax4]] = plt.subplots(nrows=2, ncols=2)\n",
    "fig, [ax1, ax2, ax3, ax4] = plt.subplots(nrows=1, ncols=4)\n",
    "\n",
    "\n",
    "plt.figure(1) # create figure 1, current figure 1\n",
    "plt.figure(2) # create figure 2, current figure 2\n",
    "\n",
    "plt.figure(1) # select figure 1, current figure 1\n",
    "ax1 = plt.subplot(211) # create sub-figure 1 in figure 1. \n",
    "\n",
    "# if we want to plot in ax1, use ax1 to do plot\n",
    "plt.sca(ax1) # select ax1 sub plot\n",
    "\n",
    "```"
   ]
  },
  {
   "cell_type": "code",
   "execution_count": 8,
   "metadata": {
    "collapsed": true
   },
   "outputs": [
    {
     "data": {
      "image/png": "[encoded data removed]",
      "text/plain": [
       "<matplotlib.figure.Figure at 0x123b8c83ba8>"
      ]
     },
     "metadata": {},
     "output_type": "display_data"
    },
    {
     "data": {
      "image/png": "[encoded data removed]",
      "text/plain": [
       "<matplotlib.figure.Figure at 0x123ba2c2ef0>"
      ]
     },
     "metadata": {},
     "output_type": "display_data"
    }
   ],
   "source": [
    "import matplotlib.gridspec as gridspec\n",
    "plt.figure(3)\n",
    "gs = gridspec.GridSpec(2, 2)  # segment the figure into 2*2 pieces ; \n",
    "ax = plt.subplot(gs[0, 0]) # specifies which grid that a subplot will be placed\n",
    "\n",
    "# occupy multiple cells by using subplot()\n",
    "ax2 = plt.subplot(gs[1, :-1])\n",
    "ax3 = plt.subplot(gs[1:, -1])\n",
    "make_labels(plt.gcf())\n",
    "plt.show()"
   ]
  },
  {
   "cell_type": "code",
   "execution_count": 11,
   "metadata": {},
   "outputs": [
    {
     "data": {
      "image/png": "[encoded data removed]",
      "text/plain": [
       "<matplotlib.figure.Figure at 0x123b8c31780>"
      ]
     },
     "metadata": {},
     "output_type": "display_data"
    }
   ],
   "source": [
    "# By default, GridSpec creates cells of equal sizes.\n",
    "#  You can adjust relative heights and widths of rows and columns.\n",
    "plt.figure(4)\n",
    "gs = gridspec.GridSpec(2, 2,\n",
    "                       width_ratios=[1, 2],\n",
    "                       height_ratios=[4, 1]\n",
    "                       )\n",
    "\n",
    "# we can also access gs[0, 1] by gs[2]\n",
    "ax1 = plt.subplot(gs[0])\n",
    "ax2 = plt.subplot(gs[1])\n",
    "ax3 = plt.subplot(gs[2])\n",
    "ax4 = plt.subplot(gs[3])\n",
    "make_labels(plt.gcf())\n",
    "plt.show()"
   ]
  }
 ],
 "metadata": {
  "kernelspec": {
   "display_name": "Python 2",
   "language": "python",
   "name": "python2"
  },
  "language_info": {
   "codemirror_mode": {
    "name": "ipython",
    "version": 2.0
   },
   "file_extension": ".py",
   "mimetype": "text/x-python",
   "name": "python",
   "nbconvert_exporter": "python",
   "pygments_lexer": "ipython2",
   "version": "2.7.6"
  }
 },
 "nbformat": 4,
 "nbformat_minor": 0
}